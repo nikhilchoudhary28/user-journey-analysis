{
 "cells": [
  {
   "cell_type": "code",
   "execution_count": 2,
   "metadata": {},
   "outputs": [],
   "source": [
    "import matplotlib.pyplot as plt\n",
    "import seaborn as sns\n",
    "import pandas as pd\n"
   ]
  },
  {
   "cell_type": "code",
   "execution_count": 3,
   "metadata": {},
   "outputs": [
    {
     "name": "stdout",
     "output_type": "stream",
     "text": [
      "   user_id  session_id subscription_type  \\\n",
      "0     1516     2980231            Annual   \n",
      "1     1516     2980248            Annual   \n",
      "2     1516     2992252            Annual   \n",
      "3     1516     3070491            Annual   \n",
      "4     1516     3709807            Annual   \n",
      "\n",
      "                                        user_journey  \n",
      "0  Homepage-Log in-Log in-Log in-Log in-Log in-Lo...  \n",
      "1  Other-Sign up-Sign up-Sign up-Sign up-Sign up-...  \n",
      "2          Log in-Log in-Log in-Log in-Log in-Log in  \n",
      "3  Homepage-Log in-Log in-Log in-Log in-Log in-Lo...  \n",
      "4  Log in-Log in-Log in-Log in-Log in-Log in-Log ...  \n",
      "<class 'pandas.core.frame.DataFrame'>\n",
      "RangeIndex: 9935 entries, 0 to 9934\n",
      "Data columns (total 4 columns):\n",
      " #   Column             Non-Null Count  Dtype \n",
      "---  ------             --------------  ----- \n",
      " 0   user_id            9935 non-null   int64 \n",
      " 1   session_id         9935 non-null   int64 \n",
      " 2   subscription_type  9935 non-null   object\n",
      " 3   user_journey       9935 non-null   object\n",
      "dtypes: int64(2), object(2)\n",
      "memory usage: 310.6+ KB\n",
      "None\n"
     ]
    }
   ],
   "source": [
    "# Load the dataset\n",
    "file_path = 'user_journey_raw.csv'  # Replace with your file name\n",
    "data = pd.read_csv(file_path)\n",
    "\n",
    "# Inspect the first few rows\n",
    "print(data.head())\n",
    "print(data.info())"
   ]
  },
  {
   "cell_type": "code",
   "execution_count": 4,
   "metadata": {},
   "outputs": [
    {
     "name": "stdout",
     "output_type": "stream",
     "text": [
      "   user_id  session_id subscription_type           user_journey\n",
      "0     1516     2980231            Annual  Homepage-Log in-Other\n",
      "1     1516     2980248            Annual   Other-Sign up-Log in\n",
      "2     1516     2992252            Annual                 Log in\n",
      "3     1516     3070491            Annual        Homepage-Log in\n",
      "4     1516     3709807            Annual                 Log in\n"
     ]
    }
   ],
   "source": [
    "# Function to remove sequential duplicates in user journeys\n",
    "def remove_page_duplicates(data, target_column='user_journey'):\n",
    "    def clean_journey(journey):\n",
    "        pages = journey.split('-')\n",
    "        cleaned_pages = [pages[0]]\n",
    "        for page in pages[1:]:\n",
    "            if page != cleaned_pages[-1]:\n",
    "                cleaned_pages.append(page)\n",
    "        return '-'.join(cleaned_pages)\n",
    "    \n",
    "    # Apply the cleaning function\n",
    "    data[target_column] = data[target_column].apply(clean_journey)\n",
    "    return data\n",
    "\n",
    "# Apply the function to clean user_journey\n",
    "cleaned_data = remove_page_duplicates(data, target_column='user_journey')\n",
    "\n",
    "# Inspect cleaned data\n",
    "print(cleaned_data.head())\n"
   ]
  },
  {
   "cell_type": "code",
   "execution_count": 5,
   "metadata": {},
   "outputs": [
    {
     "name": "stdout",
     "output_type": "stream",
     "text": [
      "   user_id                                       user_journey\n",
      "0     1516  Homepage-Log in-Other-Other-Sign up-Log in-Log...\n",
      "1     3395  Other-Pricing-Sign up-Log in-Homepage-Pricing-...\n",
      "2    10107  Homepage-Homepage-Career tracks-Homepage-Caree...\n",
      "3    11145  Homepage-Log in-Homepage-Log in-Homepage-Log i...\n",
      "4    12400  Homepage-Career tracks-Sign up-Log in-Other-Ca...\n"
     ]
    }
   ],
   "source": [
    "# Function to group user journeys\n",
    "def group_by(data, group_column='user_id', target_column='user_journey', sessions='All', count_from='last'):\n",
    "    grouped_data = data.copy()\n",
    "    if sessions != 'All':\n",
    "        if count_from == 'last':\n",
    "            grouped_data = grouped_data.groupby(group_column).tail(sessions)\n",
    "        elif count_from == 'first':\n",
    "            grouped_data = grouped_data.groupby(group_column).head(sessions)\n",
    "    \n",
    "    grouped_data = grouped_data.groupby(group_column)[target_column].apply(lambda x: '-'.join(x)).reset_index()\n",
    "    grouped_data.columns = [group_column, target_column]  # Rename columns\n",
    "    return grouped_data\n",
    "\n",
    "# Apply the function to group user journeys by user_id\n",
    "grouped_data = group_by(cleaned_data, group_column='user_id', target_column='user_journey', sessions='All')\n",
    "\n",
    "# Inspect the grouped data\n",
    "print(grouped_data.head())\n"
   ]
  },
  {
   "cell_type": "code",
   "execution_count": 6,
   "metadata": {},
   "outputs": [
    {
     "name": "stdout",
     "output_type": "stream",
     "text": [
      "   user_id                                       user_journey\n",
      "0     1516  Homepage-Other-Other-Homepage-Checkout-Checkou...\n",
      "1     3395  Other-Pricing-Homepage-Pricing-Pricing-Checkou...\n",
      "2    10107  Homepage-Homepage-Career tracks-Homepage-Caree...\n",
      "3    11145  Homepage-Homepage-Homepage-Homepage-Homepage-H...\n",
      "4    12400  Homepage-Career tracks-Other-Career track cert...\n"
     ]
    }
   ],
   "source": [
    "# Function to remove specific pages\n",
    "def remove_pages(data, pages, target_column='user_journey'):\n",
    "    def filter_pages(journey):\n",
    "        return '-'.join([page for page in journey.split('-') if page not in pages])\n",
    "    \n",
    "    # Apply the filter function\n",
    "    data[target_column] = data[target_column].apply(filter_pages)\n",
    "    return data\n",
    "\n",
    "# Specify pages to remove\n",
    "pages_to_remove = ['Log in', 'Sign up']\n",
    "\n",
    "# Apply the function to filter user journeys\n",
    "filtered_data = remove_pages(grouped_data, pages=pages_to_remove, target_column='user_journey')\n",
    "\n",
    "# Inspect the filtered data\n",
    "print(filtered_data.head())\n"
   ]
  },
  {
   "cell_type": "code",
   "execution_count": 7,
   "metadata": {},
   "outputs": [
    {
     "name": "stdout",
     "output_type": "stream",
     "text": [
      "Cleaned data exported to cleaned_user_journeys.csv\n"
     ]
    }
   ],
   "source": [
    "# Define the output file path\n",
    "output_file = 'cleaned_user_journeys.csv'\n",
    "\n",
    "# Export the filtered data to a CSV file\n",
    "filtered_data.to_csv(output_file, index=False)\n",
    "\n",
    "print(f\"Cleaned data exported to {output_file}\")\n"
   ]
  },
  {
   "cell_type": "markdown",
   "metadata": {},
   "source": [
    "QUESTION 1 :How many records are in the data if you group only the first three sessions?    \n"
   ]
  },
  {
   "cell_type": "code",
   "execution_count": 8,
   "metadata": {},
   "outputs": [
    {
     "name": "stdout",
     "output_type": "stream",
     "text": [
      "Number of records when grouped by the first three sessions: 3575\n"
     ]
    }
   ],
   "source": [
    "# Group data by 'user_id' and take only the first three sessions for each user\n",
    "first_three_sessions = data.groupby('user_id').head(3)\n",
    "\n",
    "# Get the count of records\n",
    "record_count = len(first_three_sessions)\n",
    "\n",
    "print(f\"Number of records when grouped by the first three sessions: {record_count}\")\n"
   ]
  },
  {
   "cell_type": "markdown",
   "metadata": {},
   "source": [
    "Question 2: What is the 3rd most popular page for quarterly users?"
   ]
  },
  {
   "cell_type": "code",
   "execution_count": 9,
   "metadata": {},
   "outputs": [
    {
     "name": "stdout",
     "output_type": "stream",
     "text": [
      "The 3rd most popular page for quarterly users is: Checkout\n"
     ]
    }
   ],
   "source": [
    "# Filter data for quarterly users\n",
    "quarterly_data = data[data['subscription_type'] == 'Quarterly']\n",
    "\n",
    "# Flatten user journeys to a list of pages\n",
    "pages_quarterly = '-'.join(quarterly_data['user_journey']).split('-')\n",
    "\n",
    "# Create a series and count occurrences\n",
    "quarterly_page_counts = pd.Series(pages_quarterly).value_counts()\n",
    "\n",
    "# Get the 3rd most popular page\n",
    "third_most_popular = quarterly_page_counts.index[2]\n",
    "\n",
    "print(f\"The 3rd most popular page for quarterly users is: {third_most_popular}\")\n"
   ]
  },
  {
   "cell_type": "markdown",
   "metadata": {},
   "source": [
    "Question 3: What is the 4th most popular page after the user has been on Pricing?"
   ]
  },
  {
   "cell_type": "code",
   "execution_count": 10,
   "metadata": {},
   "outputs": [
    {
     "name": "stdout",
     "output_type": "stream",
     "text": [
      "Log in\n"
     ]
    }
   ],
   "source": [
    "def find_page_after_pricing(journey):\n",
    "    pages = journey.split('-')\n",
    "    next_pages = []\n",
    "    for i, page in enumerate(pages):\n",
    "        if page == 'Pricing' and i < len(pages) - 1:\n",
    "            next_pages.append(pages[i + 1])\n",
    "    return next_pages\n",
    "\n",
    "next_pages = []\n",
    "for journey in data['user_journey']:\n",
    "    next_pages.extend(find_page_after_pricing(journey))\n",
    "\n",
    "fourth_popular = pd.Series(next_pages).value_counts().index[3]\n",
    "\n",
    "print(fourth_popular)"
   ]
  },
  {
   "cell_type": "markdown",
   "metadata": {},
   "source": [
    "QUESTION 4: What is the average length of a user journey if you consider just the last three sessions?"
   ]
  },
  {
   "cell_type": "code",
   "execution_count": 11,
   "metadata": {},
   "outputs": [
    {
     "name": "stdout",
     "output_type": "stream",
     "text": [
      "The average journey length is: 1.6\n"
     ]
    }
   ],
   "source": [
    "# Step 1: Get the last three sessions for each user\n",
    "last_three_sessions = data.groupby('user_id').tail(3)\n",
    "\n",
    "# Step 2: Create a function to count pages in a journey\n",
    "def count_journey_pages(journey):\n",
    "    # Split the journey by '-' and count unique pages\n",
    "    pages = journey.split('-')\n",
    "    return len(pages)\n",
    "\n",
    "# Step 3: Calculate journey lengths and average\n",
    "journey_lengths = last_three_sessions['user_journey'].apply(count_journey_pages)\n",
    "average_length = journey_lengths.mean()\n",
    "\n",
    "print(f\"The average journey length is: {average_length:.1f}\")"
   ]
  },
  {
   "cell_type": "markdown",
   "metadata": {},
   "source": [
    "QUESTION 5: What is the page with the 4th highest presence in the last three sessions of journeys (not the absolute number of page visits\n"
   ]
  },
  {
   "cell_type": "code",
   "execution_count": 12,
   "metadata": {},
   "outputs": [
    {
     "name": "stdout",
     "output_type": "stream",
     "text": [
      "The page with the 4th highest presence in the last three sessions is: Homepage\n"
     ]
    }
   ],
   "source": [
    "last_three = group_by(data, group_column='user_id', target_column='user_journey', sessions=3, count_from='last')\n",
    "all_pages = []\n",
    "for journey in last_three['user_journey']:\n",
    "    all_pages.extend(journey.split('-'))\n",
    "fourth_highest = pd.Series(all_pages).value_counts().index[3]\n",
    "\n",
    "print(f\"The page with the 4th highest presence in the last three sessions is: {fourth_highest}\")\n"
   ]
  },
  {
   "cell_type": "markdown",
   "metadata": {},
   "source": [
    "##### Question 6: In how many journeys is the most popular sequence of 4 pages encountered?"
   ]
  },
  {
   "cell_type": "code",
   "execution_count": 13,
   "metadata": {},
   "outputs": [
    {
     "name": "stdout",
     "output_type": "stream",
     "text": [
      "The most popular 4-page sequence appears in 30 journeys\n"
     ]
    }
   ],
   "source": [
    "# First, let's get only the last 3 sessions for each user\n",
    "last_three_sessions = data.groupby('user_id').tail(3)\n",
    "\n",
    "# Function to get all possible 4-page sequences from a journey\n",
    "def get_4_page_sequences(journey):\n",
    "    pages = journey.split('-')\n",
    "    if len(pages) < 4:  # If journey is less than 4 pages, return empty list\n",
    "        return []\n",
    "    sequences = []\n",
    "    for i in range(len(pages) - 3):\n",
    "        sequence = '-'.join(pages[i:i+4])\n",
    "        sequences.append(sequence)\n",
    "    return sequences\n",
    "\n",
    "# Get all sequences from all journeys\n",
    "all_sequences = []\n",
    "for journey in last_three_sessions['user_journey']:\n",
    "    sequences = get_4_page_sequences(journey)\n",
    "    all_sequences.extend(sequences)\n",
    "\n",
    "# Count occurrences of each sequence\n",
    "from collections import Counter\n",
    "sequence_counts = Counter(all_sequences)\n",
    "\n",
    "# Get the count of the most common sequence\n",
    "most_common_count = sequence_counts.most_common(1)[0][1]\n",
    "\n",
    "print(f\"The most popular 4-page sequence appears in {most_common_count} journeys\")"
   ]
  },
  {
   "cell_type": "markdown",
   "metadata": {},
   "source": [
    "## visualization of the data"
   ]
  },
  {
   "cell_type": "code",
   "execution_count": 14,
   "metadata": {},
   "outputs": [
    {
     "data": {
      "image/png": "[encoded data removed]",
      "text/plain": [
       "<Figure size 1200x600 with 1 Axes>"
      ]
     },
     "metadata": {},
     "output_type": "display_data"
    }
   ],
   "source": [
    "# Load cleaned data\n",
    "data = pd.read_csv('cleaned_user_journeys.csv')\n",
    "\n",
    "# Drop rows with missing user_journey values\n",
    "data = data.dropna(subset=['user_journey'])\n",
    "\n",
    "# Ensure all entries in 'user_journey' are strings\n",
    "data['user_journey'] = data['user_journey'].astype(str)\n",
    "\n",
    "# Flatten all user journeys into a list of pages\n",
    "all_pages = '-'.join(data['user_journey']).split('-')\n",
    "\n",
    "# Create a pandas series to count the occurrence of each action\n",
    "page_counts = pd.Series(all_pages).value_counts().reset_index()\n",
    "page_counts.columns = ['page', 'count']\n",
    "\n",
    "# Plot the most popular pages\n",
    "plt.figure(figsize=(12, 6))\n",
    "sns.barplot(x='page', y='count', data=page_counts.head(10))\n",
    "plt.title('Top 10 Most Popular Pages')\n",
    "plt.xticks(rotation=45)\n",
    "plt.xlabel('Page')\n",
    "plt.ylabel('Number of Visits')\n",
    "plt.show()\n"
   ]
  }
 ],
 "metadata": {
  "kernelspec": {
   "display_name": "Python 3",
   "language": "python",
   "name": "python3"
  },
  "language_info": {
   "codemirror_mode": {
    "name": "ipython",
    "version": 3
   },
   "file_extension": ".py",
   "mimetype": "text/x-python",
   "name": "python",
   "nbconvert_exporter": "python",
   "pygments_lexer": "ipython3",
   "version": "3.12.3"
  }
 },
 "nbformat": 4,
 "nbformat_minor": 2
}
